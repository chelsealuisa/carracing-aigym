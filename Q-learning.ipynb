{
 "cells": [
  {
   "cell_type": "code",
   "execution_count": 1,
   "metadata": {},
   "outputs": [],
   "source": [
    "import numpy as np"
   ]
  },
  {
   "cell_type": "code",
   "execution_count": null,
   "metadata": {},
   "outputs": [],
   "source": [
    "class Q_Learning:\n",
    "    \n",
    "    def __init__(self, statedim=512, actiondim=21, lr=0.1, gamma=0.8):\n",
    "        self.s = statedim\n",
    "        self.a = actiondim\n",
    "        self.lr = lr\n",
    "        self.gamma = gamma\n",
    "        self.Q = np.zeros((self.s, self.a))\n",
    "        \n",
    "    def learn(self, action, prev_obs, new_obs, reward):\n",
    "        \"\"\"Updates the correct action after receiving the reward.\"\"\"        \n",
    "        self.Q[prev_obs, action] = (1 - self.lr) * self.Q[prev_obs, action] + \\\n",
    "        self.lr * (reward + self.gamma * np.max(Q[new_obs, :]))\n",
    "        return None\n",
    "    \n",
    "    def best_action(self, prev_obs):\n",
    "        \"\"\"Returns index of the highest scoring action from Q-matrix.\"\"\"\n",
    "        best_action = np.argmax(self.Q[prev_obs, :])\n",
    "        return best_action"
   ]
  }
 ],
 "metadata": {
  "kernelspec": {
   "display_name": "Python (py36)",
   "language": "python",
   "name": "py36"
  },
  "language_info": {
   "codemirror_mode": {
    "name": "ipython",
    "version": 3
   },
   "file_extension": ".py",
   "mimetype": "text/x-python",
   "name": "python",
   "nbconvert_exporter": "python",
   "pygments_lexer": "ipython3",
   "version": "3.6.7"
  },
  "toc": {
   "base_numbering": 1,
   "nav_menu": {},
   "number_sections": true,
   "sideBar": true,
   "skip_h1_title": false,
   "title_cell": "Table of Contents",
   "title_sidebar": "Contents",
   "toc_cell": false,
   "toc_position": {},
   "toc_section_display": true,
   "toc_window_display": false
  }
 },
 "nbformat": 4,
 "nbformat_minor": 4
}
